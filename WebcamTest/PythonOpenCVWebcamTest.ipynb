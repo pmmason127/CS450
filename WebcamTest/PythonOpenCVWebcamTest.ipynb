{
 "cells": [
  {
   "cell_type": "markdown",
   "metadata": {},
   "source": [
    "# Python/OpenCV/Webcam Test Notebook\n",
    "This notebook is a quick test to make sure that a few things are working in your system.  This test that you can grab images from a camera (hopefully you're using a laptop with a built-in webcam or have an external USB webcam -- if you don't then please let me know ASAP).\n",
    "\n"
   ]
  },
  {
   "cell_type": "code",
   "execution_count": null,
   "metadata": {},
   "outputs": [],
   "source": [
    "# This allows you to display/plot images, etc. within the notebook document\n",
    "# (pylab includes matplotlib)\n",
    "from matplotlib.pyplot import imshow\n",
    "%matplotlib inline\n",
    "\n",
    "import cv2 # This imports the OpenCV library/modele\n",
    "import numpy as np # This imports numpy for subsequent ease of use\n",
    "\n",
    "import os.path\n",
    "import urllib.request\n",
    "import time"
   ]
  },
  {
   "cell_type": "markdown",
   "metadata": {},
   "source": [
    "<br>\n",
    "\n",
    "### Load and Display an Image\n",
    "***\n",
    "So that we're all working with the same image, we'll download one off the web."
   ]
  },
  {
   "cell_type": "code",
   "execution_count": null,
   "metadata": {},
   "outputs": [],
   "source": [
    "IMG_URL = 'https://www.intel.com/content/dam/develop/external/us/en/images/expanding-possibilities-computer-vision-with-ai-wallpaper-780924.jpg'\n",
    "LOCAL_FILE = 'vision_image.png'\n",
    "urllib.request.urlretrieve(IMG_URL, LOCAL_FILE)\n",
    "if os.path.exists(LOCAL_FILE):\n",
    "    print(f'Successfully downloaded file: {LOCAL_FILE}')"
   ]
  },
  {
   "cell_type": "markdown",
   "metadata": {},
   "source": [
    "<br>\n",
    "\n",
    "Now we'll use OpenCV to read the image and matplotlib to display it..."
   ]
  },
  {
   "cell_type": "code",
   "execution_count": null,
   "metadata": {},
   "outputs": [],
   "source": [
    "im = cv2.imread(LOCAL_FILE)\n",
    "print('Displaying Image...')\n",
    "imshow(im);"
   ]
  },
  {
   "cell_type": "markdown",
   "metadata": {},
   "source": [
    "<br>\n",
    "\n",
    "### Testing the Camera\n",
    "***\n",
    "Now we'll use the OpenCV library to grab a frame from our camera which we can then do various operations with."
   ]
  },
  {
   "cell_type": "code",
   "execution_count": null,
   "metadata": {},
   "outputs": [],
   "source": [
    "# Create a Video Capture Device (device zero is the default which \n",
    "# would be the webcam if you're on a laptop)\n",
    "cap = cv2.VideoCapture(0)\n",
    "\n",
    "# Grab a few frames to make sure the exposure adjusts itself\n",
    "for i in range (10):\n",
    "    ret, frame = cap.read()\n",
    "    time.sleep(0.1)\n",
    "\n",
    "# Now grab the actual frame that we're going to use\n",
    "ret, frame = cap.read()\n",
    "\n",
    "if not frame == None:\n",
    "    print('Successfully grabbed a frame from the camera!')\n",
    "else:\n",
    "    print('ERROR: cap.read() returned {}'.format(frame))"
   ]
  },
  {
   "cell_type": "markdown",
   "metadata": {},
   "source": [
    "<br>\n",
    "\n",
    "Now we'll display the frame."
   ]
  },
  {
   "cell_type": "code",
   "execution_count": null,
   "metadata": {},
   "outputs": [],
   "source": [
    "print(frame)\n",
    "subplot(1,2,1)\n",
    "imshow(frame)\n",
    "\n",
    "subplot(1,2,2)\n",
    "imshow(frame[:,:,::-1])\n",
    "\n",
    "# release/free up the capture object, we're done with it\n",
    "cap.release()"
   ]
  },
  {
   "cell_type": "markdown",
   "metadata": {},
   "source": [
    "#### QUESTION -- What's the difference between the two images above???"
   ]
  },
  {
   "cell_type": "markdown",
   "metadata": {},
   "source": [
    "<br>\n",
    "\n",
    "### Test for SIFT\n",
    "***\n",
    "We'll use the image that we downloaded off the web and extract SIFT descriptors from it."
   ]
  },
  {
   "cell_type": "code",
   "execution_count": null,
   "metadata": {},
   "outputs": [],
   "source": [
    "SIFT = cv2.xfeatures2d.SIFT_create()\n",
    "\n",
    "f,d = SIFT.detectAndCompute(im,None)\n",
    "if d.shape[1] == 128:\n",
    "    print( f'Found {d.shape[0]} SIFT feature points!' )"
   ]
  }
 ],
 "metadata": {
  "kernelspec": {
   "display_name": "Python 3",
   "language": "python",
   "name": "python3"
  },
  "language_info": {
   "codemirror_mode": {
    "name": "ipython",
    "version": 3
   },
   "file_extension": ".py",
   "mimetype": "text/x-python",
   "name": "python",
   "nbconvert_exporter": "python",
   "pygments_lexer": "ipython3",
   "version": "3.8.2"
  }
 },
 "nbformat": 4,
 "nbformat_minor": 2
}
