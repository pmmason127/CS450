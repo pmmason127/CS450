{
 "cells": [
  {
   "cell_type": "markdown",
   "metadata": {},
   "source": [
    "# Learning Lab #1\n",
    "\n",
    "#### In this lab, you will write several image processing routines, each described below.\n",
    "\n",
    "These initial code blocks will import some of the routines that you'll need."
   ]
  },
  {
   "cell_type": "code",
   "execution_count": null,
   "metadata": {
    "collapsed": false,
    "jupyter": {
     "outputs_hidden": false
    }
   },
   "outputs": [],
   "source": [
    "%matplotlib inline\n"
   ]
  },
  {
   "cell_type": "code",
   "execution_count": null,
   "metadata": {
    "collapsed": false,
    "jupyter": {
     "outputs_hidden": false
    }
   },
   "outputs": [],
   "source": [
    "import numpy as np # this is so that you can see which functions come from the numpy library\n",
    "import matplotlib.pyplot as plt # this is so that you can see which functions come from the pyplot library\n",
    "plt.rcParams['figure.figsize'] = [15,8]\n",
    "plt.rcParams['axes.titlesize'] = '16'\n",
    "plt.rcParams['axes.titleweight'] = 'bold'\n",
    "\n",
    "import cv2\n",
    "def just_title(title):\n",
    "    a = plt.gca()\n",
    "    a.set_title(title, fontdict={'fontsize': plt.rcParams['axes.titlesize'],\n",
    "                                 'fontweight' : plt.rcParams['axes.titleweight'],\n",
    "                                 'verticalalignment': 'baseline',\n",
    "                                 'horizontalalignment': 'center'})\n",
    "    a.set_xticks([])\n",
    "    a.set_yticks([])\n",
    "\n",
    "from scipy import misc\n",
    "print()\n",
    "\n",
    "\n",
    "big_face = misc.face()\n",
    "s = 128.0/big_face.shape[0]\n",
    "sm_face = cv2.resize(big_face,(0,0),fx=s,fy=s)\n",
    "\n",
    "plt.imshow(sm_face);\n",
    "just_title('Original Color Image')"
   ]
  },
  {
   "cell_type": "markdown",
   "metadata": {},
   "source": [
    "<br>\n",
    "<br>\n",
    "\n",
    "### Problem 1 - Gray Scale\n",
    "\n",
    "Convert a color image to  gray scale: write a function that takes in  a  color  image  and  returns a  grayscale  image  using  the  following  formula  for  conversion:  \n",
    "\n",
    "$Gray=  0.299 \\cdot Red  +  0.587 \\cdot Green  +  0.114 \\cdot Blue$"
   ]
  },
  {
   "cell_type": "code",
   "execution_count": null,
   "metadata": {
    "collapsed": false,
    "jupyter": {
     "outputs_hidden": false
    }
   },
   "outputs": [],
   "source": [
    "def color2gray(image):\n",
    "    \n",
    "    # Your code goes here\n",
    "\n",
    "    return result"
   ]
  },
  {
   "cell_type": "markdown",
   "metadata": {},
   "source": [
    "<br>\n",
    "\n",
    "Now test your code... "
   ]
  },
  {
   "cell_type": "code",
   "execution_count": null,
   "metadata": {
    "collapsed": false,
    "jupyter": {
     "outputs_hidden": false
    }
   },
   "outputs": [],
   "source": [
    "print()\n",
    "gray_face = color2gray(sm_face)\n",
    "\n",
    "plt.subplot(221)\n",
    "plt.imshow(sm_face)\n",
    "just_title('Input (Color)')\n",
    "\n",
    "plt.subplot(222)\n",
    "plt.imshow(gray_face,cmap=\"gray\",vmin=0,vmax=255)\n",
    "just_title('Gray')\n",
    "\n",
    "target = cv2.imread('targets/gray.png')\n",
    "plt.subplot(224)\n",
    "plt.imshow(target,cmap=\"gray\",vmin=0,vmax=255)\n",
    "just_title('Target Gray')\n",
    "\n",
    "plt.show()\n",
    "\n",
    "def check_result_gray(out_str, result_img,target_img):\n",
    "    if len(target_img.shape)==3:\n",
    "        target_img = target_img[:,:,0]\n",
    "    GOOD = np.max(np.abs(result_img-target_img))<=1.0\n",
    "    rslt = 'Good, your result matches the target!' if GOOD else 'Result doesn\\'t match yet!'\n",
    "    print(f'{out_str.upper()}: {rslt}')\n",
    "    \n",
    "check_result_gray(\"Gray\", gray_face, target)"
   ]
  },
  {
   "cell_type": "markdown",
   "metadata": {},
   "source": [
    "<br>\n",
    "<br>\n",
    "\n",
    "### Problem 2 - Brightness Adjustment\n",
    "\n",
    "For this problem, you should read in a  grayscale  image (e.g. from above) and  return  the  corresponding  result  with  the  brightness  increased or decreased by  a  specified  amount (passed  as  a  parameter).\n",
    "\n",
    "Be careful if you go below 0 or above 255.  What happens?"
   ]
  },
  {
   "cell_type": "code",
   "execution_count": null,
   "metadata": {
    "tags": []
   },
   "outputs": [],
   "source": [
    "def adjust_brightness(image, offset):\n",
    "    \n",
    "    # Your code goes here\n",
    "\n",
    "    return image2"
   ]
  },
  {
   "cell_type": "markdown",
   "metadata": {},
   "source": [
    "<br>\n",
    "\n",
    "Now test your code... "
   ]
  },
  {
   "cell_type": "code",
   "execution_count": null,
   "metadata": {
    "collapsed": false,
    "jupyter": {
     "outputs_hidden": false
    }
   },
   "outputs": [],
   "source": [
    "print()\n",
    "bright_face_p100 = adjust_brightness(gray_face, 100)\n",
    "bright_face_m100 = adjust_brightness(gray_face, -100)\n",
    "\n",
    "plt.subplot(231)\n",
    "plt.imshow(gray_face,cmap=\"gray\",vmin=0,vmax=255)\n",
    "just_title('Input');\n",
    "\n",
    "plt.subplot(232)\n",
    "plt.imshow(bright_face_p100,cmap=\"gray\",vmin=0,vmax=255)\n",
    "just_title('Brighter');\n",
    "\n",
    "plt.subplot(233)\n",
    "plt.imshow(bright_face_m100,cmap=\"gray\",vmin=0,vmax=255)\n",
    "just_title('Darker');\n",
    "\n",
    "\n",
    "target_brighter = cv2.imread('targets/brighter.png')\n",
    "target_darker   = cv2.imread('targets/darker.png')\n",
    "\n",
    "plt.subplot(235)\n",
    "plt.imshow(target_brighter,cmap=\"gray\",vmin=0,vmax=255)\n",
    "just_title('Target Brighter');\n",
    "\n",
    "\n",
    "plt.subplot(236)\n",
    "plt.imshow(target_darker,cmap=\"gray\",vmin=0,vmax=255)\n",
    "just_title('Target Darker');\n",
    "\n",
    "plt.show()\n",
    "check_result_gray(\"Brighter\", bright_face_p100, target_brighter)\n",
    "check_result_gray(\"Darker\", bright_face_m100, target_darker)\n"
   ]
  },
  {
   "cell_type": "markdown",
   "metadata": {},
   "source": [
    "<br>\n",
    "<br>\n",
    "\n",
    "### Problem 3 - Uniform Blurring\n",
    "\n",
    "For this problem, you should take in  a  grayscale  image  and  return a  corresponding  image  that  has  been  uniformly blurred  (spatially  filtered)  using  3  x  3  uniform  averaging or \"box\" filter."
   ]
  },
  {
   "cell_type": "code",
   "execution_count": null,
   "metadata": {
    "collapsed": false,
    "jupyter": {
     "outputs_hidden": false
    }
   },
   "outputs": [],
   "source": [
    "def blur_uniform(image, kwidth, kheight):\n",
    "    \n",
    "    # Your code goes here\n",
    "    \n",
    "    return result\n",
    "\n",
    "def blur_uniform3x3(image):\n",
    "    return blur_uniform(image,3,3)"
   ]
  },
  {
   "cell_type": "markdown",
   "metadata": {},
   "source": [
    "<br>\n",
    "\n",
    "Now test your code... "
   ]
  },
  {
   "cell_type": "code",
   "execution_count": null,
   "metadata": {
    "tags": []
   },
   "outputs": [],
   "source": [
    "# print()\n",
    "\n",
    "blur_face = blur_uniform3x3(gray_face)\n",
    "\n",
    "plt.subplot(131)\n",
    "plt.imshow(gray_face,cmap=\"gray\",vmin=0,vmax=255)\n",
    "just_title('Input');\n",
    "\n",
    "plt.subplot(132)\n",
    "plt.imshow(blur_face,cmap=\"gray\",vmin=0,vmax=255)\n",
    "just_title('Blurred')\n",
    "\n",
    "\n",
    "target_blurred = cv2.imread('targets/ublur.png')\n",
    "\n",
    "plt.subplot(133)\n",
    "plt.imshow(target_blurred,cmap=\"gray\",vmin=0,vmax=255)\n",
    "just_title('Target Blurred')\n",
    "\n",
    "plt.show()\n",
    "#check_result_gray(\"Blurred\", blur_face, target_blurred)"
   ]
  },
  {
   "cell_type": "markdown",
   "metadata": {},
   "source": [
    "<br>\n",
    "<br>\n",
    "\n",
    "### Problem 4 - Median Filter\n",
    "\n",
    "This function should take a  grayscale  image and returns a corresponding image  that  has  been  median  filtered  using  a  3  x  3  neighborhood.  Each pixel from the original should be replaced by the median of the 9 values in a 3x3 neighborhood around that pixel."
   ]
  },
  {
   "cell_type": "code",
   "execution_count": null,
   "metadata": {
    "tags": []
   },
   "outputs": [],
   "source": [
    "def median_filter(image,kwidth,kheight):\n",
    "    \n",
    "    # Your code goes here\n",
    "\n",
    "    return result"
   ]
  },
  {
   "cell_type": "markdown",
   "metadata": {},
   "source": [
    "<br>\n",
    "\n",
    "Now test your code... "
   ]
  },
  {
   "cell_type": "code",
   "execution_count": null,
   "metadata": {
    "collapsed": false,
    "jupyter": {
     "outputs_hidden": false
    }
   },
   "outputs": [],
   "source": [
    "print()\n",
    "\n",
    "med_face = median_filter(gray_face,3,3)\n",
    "\n",
    "plt.subplot(131)\n",
    "plt.imshow(gray_face,cmap=\"gray\",vmin=0,vmax=255)\n",
    "just_title('Input')\n",
    "\n",
    "plt.subplot(132)\n",
    "plt.imshow(med_face,cmap=\"gray\",vmin=0,vmax=255)\n",
    "just_title('Median Filtered')\n",
    "\n",
    "\n",
    "median_target = cv2.imread('targets/median.png')\n",
    "plt.subplot(133)\n",
    "plt.imshow(median_target,cmap=\"gray\",vmin=0,vmax=255)\n",
    "just_title('Target')"
   ]
  },
  {
   "cell_type": "markdown",
   "metadata": {},
   "source": [
    "Note the difference between this and the uniform blur above.  Especially look at the edges of the leaves, they're soft in the uniform blur, but sharp contrast here.  How come?"
   ]
  },
  {
   "cell_type": "markdown",
   "metadata": {},
   "source": [
    "<br>\n",
    "<br>\n",
    "\n",
    "### Problem 5 - Sharpening\n",
    "\n",
    "This function takes in  a  grayscale  image  and  returns a  corresponding  result  that  has  been  sharpened  using  an  unsharp  masking  kernel  that  has  a  5  in  the  middle  and  -1s  for  the  four-connected  neighbors."
   ]
  },
  {
   "cell_type": "code",
   "execution_count": null,
   "metadata": {
    "collapsed": false,
    "jupyter": {
     "outputs_hidden": false
    }
   },
   "outputs": [],
   "source": [
    "def sharpen_image(image):\n",
    "    \n",
    "    # Your code goes here\n",
    "    \n",
    "    return result"
   ]
  },
  {
   "cell_type": "markdown",
   "metadata": {},
   "source": [
    "<br>\n",
    "\n",
    "Now test your code... "
   ]
  },
  {
   "cell_type": "code",
   "execution_count": null,
   "metadata": {
    "collapsed": false,
    "jupyter": {
     "outputs_hidden": false
    }
   },
   "outputs": [],
   "source": [
    "#target = cv2.imread('targets/gray.png')\n",
    "#cv2.imwrite('targets/median.png',med_face)\n",
    "\n",
    "\n",
    "\n",
    "sharp_face = sharpen_image(gray_face)\n",
    "plt.imshow(sharp_face,cmap='gray',vmin=0,vmax=255)\n",
    "plt.show()"
   ]
  },
  {
   "cell_type": "markdown",
   "metadata": {},
   "source": [
    "<br>\n",
    "<br>\n",
    "\n",
    "### Problem 6 -  Edge Detection\n",
    "\n",
    "Edge  detection:  takes in  a  grayscale  image  and  returns a  corresponding  result  that  shows  the  gradient  magnitude  of  the  input.    (You  may  afterward  scale  the  result  for  visibility  if  you  wish when  you  demonstrate  using  the  function.)"
   ]
  },
  {
   "cell_type": "code",
   "execution_count": null,
   "metadata": {
    "tags": []
   },
   "outputs": [],
   "source": [
    "def edge_detect(image):\n",
    "    \n",
    "    return None"
   ]
  },
  {
   "cell_type": "markdown",
   "metadata": {},
   "source": [
    "<br>\n",
    "\n",
    "Now test your code... "
   ]
  },
  {
   "cell_type": "code",
   "execution_count": null,
   "metadata": {
    "tags": []
   },
   "outputs": [],
   "source": []
  }
 ],
 "metadata": {
  "kernelspec": {
   "display_name": "Python 3 (ipykernel)",
   "language": "python",
   "name": "python3"
  },
  "language_info": {
   "codemirror_mode": {
    "name": "ipython",
    "version": 3
   },
   "file_extension": ".py",
   "mimetype": "text/x-python",
   "name": "python",
   "nbconvert_exporter": "python",
   "pygments_lexer": "ipython3",
   "version": "3.10.6"
  }
 },
 "nbformat": 4,
 "nbformat_minor": 4
}
